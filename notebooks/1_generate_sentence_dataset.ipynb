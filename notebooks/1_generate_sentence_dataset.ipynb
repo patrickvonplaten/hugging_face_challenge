{
 "cells": [
  {
   "cell_type": "markdown",
   "metadata": {},
   "source": [
    "# 🤗 Multimodal generation - Part 1: sentence dataset 🤗"
   ]
  },
  {
   "cell_type": "code",
   "execution_count": 1,
   "metadata": {},
   "outputs": [
    {
     "name": "stdout",
     "output_type": "stream",
     "text": [
      "/Users/simonbrandeis/dev/multimodal-code-exercise\n"
     ]
    }
   ],
   "source": [
    "cd .."
   ]
  },
  {
   "cell_type": "code",
   "execution_count": 2,
   "metadata": {},
   "outputs": [],
   "source": [
    "import os\n",
    "import torch\n",
    "import transformers\n",
    "from transformers import AutoTokenizer"
   ]
  },
  {
   "cell_type": "markdown",
   "metadata": {},
   "source": [
    "## Parameters definition"
   ]
  },
  {
   "cell_type": "code",
   "execution_count": 3,
   "metadata": {},
   "outputs": [],
   "source": [
    "# Directory where data is to be stored and loaded\n",
    "DATA_DIR = \"./data/\"\n",
    "\n",
    "# Name of the pretrained language model to use\n",
    "PRETRAINED_LM_NAME = 'distilbert-base-uncased'\n",
    "\n",
    "# Maximum length of a sentence, in number of tokens\n",
    "SENTENCE_MAX_TOKEN_LEN = 32\n",
    "\n",
    "# Patterns to generate the dataset - <WORD> is replaced by the name of a class in ImageNet\n",
    "PATTERNS = (\n",
    "    \"i saw a <WORD>.\",\n",
    "    \"people love <WORD>s!\",\n",
    "    \"what do you think of <WORD>s?\",\n",
    "    \"a <WORD> in a field.\",\n",
    "    \"<WORD>s on a roof.\",\n",
    "    \"<WORD>s are great.\",\n",
    "    \"i hate <WORD>s.\",\n",
    "    \"the whole thing is about <WORD>s\",\n",
    "    \"<WORD>s <WORD>s <WORD>s <WORD>s\",\n",
    "    \"<WORD>s are more kind of like a philosophical concept.\"\n",
    ")"
   ]
  },
  {
   "cell_type": "markdown",
   "metadata": {},
   "source": [
    "## Tokenizer instanciation"
   ]
  },
  {
   "cell_type": "code",
   "execution_count": 4,
   "metadata": {},
   "outputs": [],
   "source": [
    "lm_tokenizer = AutoTokenizer.from_pretrained(PRETRAINED_LM_NAME)\n",
    "pad_token_id = lm_tokenizer.pad_token_id"
   ]
  },
  {
   "cell_type": "markdown",
   "metadata": {},
   "source": [
    "## Generation and tokenization of the sentences"
   ]
  },
  {
   "cell_type": "code",
   "execution_count": 5,
   "metadata": {},
   "outputs": [
    {
     "name": "stderr",
     "output_type": "stream",
     "text": [
      "[nltk_data] Downloading package wordnet to\n",
      "[nltk_data]     /Users/simonbrandeis/nltk_data...\n",
      "[nltk_data]   Package wordnet is already up-to-date!\n",
      "INFO:text2img.data.generate:Building a list of simple words associated to ImageNet classes\n",
      "100%|██████████| 1000/1000 [00:00<00:00, 8309.17it/s]\n",
      "INFO:text2img.data.generate:Building a list of sentences associated to each selected ImageNet class\n",
      "100%|██████████| 598/598 [00:00<00:00, 223786.03it/s]\n",
      "100%|██████████| 598/598 [00:01<00:00, 441.47it/s]\n"
     ]
    }
   ],
   "source": [
    "# Copy-paste of prepare_data.py script\n",
    "from text2img.data.generate import generate_dataset, tokenize_dataset\n",
    "\n",
    "sentences = generate_dataset(patterns=PATTERNS, lm_tokenizer=lm_tokenizer)\n",
    "\n",
    "tokenized_sentences, labels, texts = tokenize_dataset(dataset=sentences,\n",
    "                                         lm_tokenizer=lm_tokenizer)"
   ]
  },
  {
   "cell_type": "markdown",
   "metadata": {},
   "source": [
    "## Padding / clipping of the tokenized sentences"
   ]
  },
  {
   "cell_type": "code",
   "execution_count": 6,
   "metadata": {},
   "outputs": [],
   "source": [
    "from text2img.data.utils import pad_or_clip\n",
    "\n",
    "padded_tokens = [pad_or_clip(tokens, SENTENCE_MAX_TOKEN_LEN, pad_token_id)\n",
    "                 for tokens in tokenized_sentences]"
   ]
  },
  {
   "cell_type": "markdown",
   "metadata": {},
   "source": [
    "## Save the dataset to DATA_DIR"
   ]
  },
  {
   "cell_type": "code",
   "execution_count": 7,
   "metadata": {},
   "outputs": [],
   "source": [
    "labels_tensor = torch.tensor(labels)\n",
    "tokens_tensor = torch.tensor(padded_tokens)\n",
    "\n",
    "torch.save(labels_tensor, os.path.join(DATA_DIR, 'labels_tensor.bin'))\n",
    "torch.save(tokens_tensor, os.path.join(DATA_DIR, 'tokens_tensor.bin'))\n",
    "\n",
    "with open(os.path.join(DATA_DIR, 'input_texts.txt'), 'w') as f:\n",
    "    for item in texts:\n",
    "        f.write(\"%s\\n\" % item)"
   ]
  },
  {
   "cell_type": "markdown",
   "metadata": {},
   "source": [
    "# Discussion on how to improve the dataset generation"
   ]
  },
  {
   "cell_type": "markdown",
   "metadata": {},
   "source": [
    "Our dataset of sentences lacks of diversity: all samples are from the same patterns. Plus, some sentences might not make sense at all using this method of generation. Take for instance the pattern `<WORD>s on a roof` and the word `shark`. One way to remedy both is to sample sentences containing the word of interest from the Internet, for instance from... Wait for it... Wikipedia."
   ]
  },
  {
   "cell_type": "markdown",
   "metadata": {},
   "source": [
    "As pointed out in the code exercise description, ImageNet classes are very diverse and sometimes very specific. Dropping the classes that are not in the tokenizer vocabulary is a first step, but some \"undesired\" classes still pass through (eg poodle, husky for the dog races). We could go further and remove those classes manually."
   ]
  }
 ],
 "metadata": {
  "kernelspec": {
   "display_name": "Python 3",
   "language": "python",
   "name": "python3"
  },
  "language_info": {
   "codemirror_mode": {
    "name": "ipython",
    "version": 3
   },
   "file_extension": ".py",
   "mimetype": "text/x-python",
   "name": "python",
   "nbconvert_exporter": "python",
   "pygments_lexer": "ipython3",
   "version": "3.7.7"
  }
 },
 "nbformat": 4,
 "nbformat_minor": 2
}
