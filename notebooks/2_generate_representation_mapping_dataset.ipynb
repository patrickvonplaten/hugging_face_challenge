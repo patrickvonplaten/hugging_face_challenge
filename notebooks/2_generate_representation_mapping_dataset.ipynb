{
 "cells": [
  {
   "cell_type": "markdown",
   "metadata": {},
   "source": [
    "# 🤗 Multimodal generation - Part 2: text and image representation dataset 🤗"
   ]
  },
  {
   "cell_type": "code",
   "execution_count": 1,
   "metadata": {},
   "outputs": [
    {
     "name": "stdout",
     "output_type": "stream",
     "text": [
      "/Users/simonbrandeis/dev/multimodal-code-exercise\n"
     ]
    }
   ],
   "source": [
    "cd .."
   ]
  },
  {
   "cell_type": "code",
   "execution_count": 2,
   "metadata": {},
   "outputs": [],
   "source": [
    "import os\n",
    "import torch\n",
    "import transformers\n",
    "from pytorch_pretrained_biggan import BigGAN\n",
    "from transformers import AutoTokenizer, AutoModel"
   ]
  },
  {
   "cell_type": "markdown",
   "metadata": {},
   "source": [
    "## Parameter definition"
   ]
  },
  {
   "cell_type": "code",
   "execution_count": 3,
   "metadata": {},
   "outputs": [],
   "source": [
    "# Directory where data is to be stored and loaded\n",
    "DATA_DIR = \"./data/\"\n",
    "\n",
    "# Name of the pretrained language model to use\n",
    "PRETRAINED_LM_NAME = \"distilbert-base-uncased\"\n",
    "\n",
    "# Name of the pretrained image GAN model to use\n",
    "PRETRAINED_GAN_NAME = \"biggan-deep-128\""
   ]
  },
  {
   "cell_type": "markdown",
   "metadata": {},
   "source": [
    "## Load the data"
   ]
  },
  {
   "cell_type": "code",
   "execution_count": 4,
   "metadata": {},
   "outputs": [],
   "source": [
    "labels_tensor = torch.load(os.path.join(DATA_DIR, \"labels_tensor.bin\"))\n",
    "tokens_tensor = torch.load(os.path.join(DATA_DIR, \"tokens_tensor.bin\"))"
   ]
  },
  {
   "cell_type": "markdown",
   "metadata": {},
   "source": [
    "## Instanciate the pretrained models: GAN and Language Model"
   ]
  },
  {
   "cell_type": "code",
   "execution_count": 5,
   "metadata": {},
   "outputs": [],
   "source": [
    "lm_model = AutoModel.from_pretrained(PRETRAINED_LM_NAME)\n",
    "lm_tokenizer = AutoTokenizer.from_pretrained(PRETRAINED_LM_NAME)\n",
    "\n",
    "gan_model = BigGAN.from_pretrained(PRETRAINED_GAN_NAME)"
   ]
  },
  {
   "cell_type": "markdown",
   "metadata": {},
   "source": [
    "## Compute the representations"
   ]
  },
  {
   "cell_type": "code",
   "execution_count": 6,
   "metadata": {},
   "outputs": [],
   "source": [
    "from text2img.data.transform import text_tokens_to_representation, image_label_to_representation"
   ]
  },
  {
   "cell_type": "code",
   "execution_count": 7,
   "metadata": {},
   "outputs": [
    {
     "name": "stderr",
     "output_type": "stream",
     "text": [
      "100%|██████████| 1/1 [00:00<00:00,  7.81it/s]\n"
     ]
    }
   ],
   "source": [
    "labels_representations_tensor = image_label_to_representation(labels_tensor=labels_tensor,\n",
    "                                                              embedding_module=gan_model.embeddings,\n",
    "                                                              batch_size=len(labels_tensor))"
   ]
  },
  {
   "cell_type": "code",
   "execution_count": 8,
   "metadata": {},
   "outputs": [
    {
     "name": "stderr",
     "output_type": "stream",
     "text": [
      "100%|██████████| 187/187 [03:02<00:00,  1.02it/s]\n"
     ]
    }
   ],
   "source": [
    "text_representations_tensor = text_tokens_to_representation(tokens_tensor=tokens_tensor,\n",
    "                                                           language_model=lm_model,\n",
    "                                                           batch_size=32)"
   ]
  },
  {
   "cell_type": "markdown",
   "metadata": {},
   "source": [
    "## Save the representations"
   ]
  },
  {
   "cell_type": "code",
   "execution_count": 9,
   "metadata": {},
   "outputs": [],
   "source": [
    "torch.save(labels_representations_tensor, os.path.join(DATA_DIR, \"labels_representations_tensor.bin\"))\n",
    "torch.save(text_representations_tensor, os.path.join(DATA_DIR, \"text_representations_tensor.bin\"))"
   ]
  },
  {
   "cell_type": "markdown",
   "metadata": {},
   "source": [
    "# Discussion on how to improve the generation"
   ]
  },
  {
   "cell_type": "markdown",
   "metadata": {},
   "source": [
    "Our label representation tensors lack diversity, which will damage the learning afterwards.\n",
    "\n",
    "To overcome this, we can either:\n",
    "- Add noise to the representation vectors to make them less similar\n",
    "- Ideally, use the BigGAN encoder to compute embeddings of images from the Internet"
   ]
  }
 ],
 "metadata": {
  "kernelspec": {
   "display_name": "Python 3",
   "language": "python",
   "name": "python3"
  },
  "language_info": {
   "codemirror_mode": {
    "name": "ipython",
    "version": 3
   },
   "file_extension": ".py",
   "mimetype": "text/x-python",
   "name": "python",
   "nbconvert_exporter": "python",
   "pygments_lexer": "ipython3",
   "version": "3.7.7"
  }
 },
 "nbformat": 4,
 "nbformat_minor": 2
}
